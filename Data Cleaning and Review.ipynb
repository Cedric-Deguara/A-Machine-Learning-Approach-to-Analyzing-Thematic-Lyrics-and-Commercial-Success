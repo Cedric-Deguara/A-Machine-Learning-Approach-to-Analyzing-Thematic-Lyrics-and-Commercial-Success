{
 "cells": [
  {
   "cell_type": "code",
   "execution_count": 1,
   "metadata": {},
   "outputs": [
    {
     "name": "stderr",
     "output_type": "stream",
     "text": [
      "WARNING: You are using pip version 21.1.1; however, version 24.0 is available.\n",
      "You should consider upgrading via the 'c:\\Users\\cedri\\Desktop\\Datasets and Artifact\\env\\Scripts\\python.exe -m pip install --upgrade pip' command.\n"
     ]
    },
    {
     "name": "stdout",
     "output_type": "stream",
     "text": [
      "Requirement already satisfied: pandas in c:\\users\\cedri\\desktop\\datasets and artifact\\env\\lib\\site-packages (2.0.3)\n",
      "Requirement already satisfied: python-dateutil>=2.8.2 in c:\\users\\cedri\\desktop\\datasets and artifact\\env\\lib\\site-packages (from pandas) (2.9.0.post0)\n",
      "Requirement already satisfied: pytz>=2020.1 in c:\\users\\cedri\\desktop\\datasets and artifact\\env\\lib\\site-packages (from pandas) (2024.1)\n",
      "Requirement already satisfied: tzdata>=2022.1 in c:\\users\\cedri\\desktop\\datasets and artifact\\env\\lib\\site-packages (from pandas) (2024.1)\n",
      "Requirement already satisfied: numpy>=1.20.3 in c:\\users\\cedri\\desktop\\datasets and artifact\\env\\lib\\site-packages (from pandas) (1.24.4)\n",
      "Requirement already satisfied: six>=1.5 in c:\\users\\cedri\\desktop\\datasets and artifact\\env\\lib\\site-packages (from python-dateutil>=2.8.2->pandas) (1.16.0)\n",
      "Note: you may need to restart the kernel to use updated packages.\n",
      "Requirement already satisfied: numpy in c:\\users\\cedri\\desktop\\datasets and artifact\\env\\lib\\site-packages (1.24.4)\n",
      "Note: you may need to restart the kernel to use updated packages.\n"
     ]
    },
    {
     "name": "stderr",
     "output_type": "stream",
     "text": [
      "WARNING: You are using pip version 21.1.1; however, version 24.0 is available.\n",
      "You should consider upgrading via the 'c:\\Users\\cedri\\Desktop\\Datasets and Artifact\\env\\Scripts\\python.exe -m pip install --upgrade pip' command.\n",
      "WARNING: You are using pip version 21.1.1; however, version 24.0 is available.\n",
      "You should consider upgrading via the 'c:\\Users\\cedri\\Desktop\\Datasets and Artifact\\env\\Scripts\\python.exe -m pip install --upgrade pip' command.\n"
     ]
    },
    {
     "name": "stdout",
     "output_type": "stream",
     "text": [
      "Requirement already satisfied: nltk in c:\\users\\cedri\\desktop\\datasets and artifact\\env\\lib\\site-packages (3.8.1)\n",
      "Requirement already satisfied: tqdm in c:\\users\\cedri\\desktop\\datasets and artifact\\env\\lib\\site-packages (from nltk) (4.66.2)\n",
      "Requirement already satisfied: regex>=2021.8.3 in c:\\users\\cedri\\desktop\\datasets and artifact\\env\\lib\\site-packages (from nltk) (2023.12.25)\n",
      "Requirement already satisfied: joblib in c:\\users\\cedri\\desktop\\datasets and artifact\\env\\lib\\site-packages (from nltk) (1.4.0)\n",
      "Requirement already satisfied: click in c:\\users\\cedri\\desktop\\datasets and artifact\\env\\lib\\site-packages (from nltk) (8.1.7)\n",
      "Requirement already satisfied: colorama in c:\\users\\cedri\\desktop\\datasets and artifact\\env\\lib\\site-packages (from click->nltk) (0.4.6)\n",
      "Note: you may need to restart the kernel to use updated packages.\n"
     ]
    }
   ],
   "source": [
    "%pip install pandas\n",
    "import pandas as pd\n",
    "%pip install numpy\n",
    "import re\n",
    "%pip install nltk\n",
    "from nltk.corpus import stopwords\n",
    "from nltk.tokenize import word_tokenize\n",
    "from nltk.stem import PorterStemmer"
   ]
  },
  {
   "cell_type": "code",
   "execution_count": 4,
   "metadata": {},
   "outputs": [],
   "source": [
    "# Read the CSV files (Add the path to the CSV files)\n",
    "billboard_lyrics_spotify = pd.read_csv('C:/Users/cedri/Desktop/Datasets and Artifact/data/billboard-lyrics-spotify.csv')\n"
   ]
  },
  {
   "cell_type": "code",
   "execution_count": 5,
   "metadata": {},
   "outputs": [
    {
     "name": "stdout",
     "output_type": "stream",
     "text": [
      "Index(['artist_all', 'artist_base', 'rank', 'song', 'year', 'artist_featured',\n",
      "       'song_clean', 'artist_clean', 'lyrics', 'acousticness', 'danceability',\n",
      "       'energy', 'explicit', 'instrumentalness', 'key', 'liveness', 'loudness',\n",
      "       'mode', 'popularity', 'release_date', 'speechiness', 'tempo',\n",
      "       'time_signature', 'valence', 'duration_min', 'num_words',\n",
      "       'words_per_sec', 'num_uniq_words', 'decade', 'uniq_ratio'],\n",
      "      dtype='object')\n"
     ]
    }
   ],
   "source": [
    "column_headers = billboard_lyrics_spotify.columns\n",
    "print(column_headers)"
   ]
  },
  {
   "cell_type": "code",
   "execution_count": 7,
   "metadata": {},
   "outputs": [
    {
     "name": "stdout",
     "output_type": "stream",
     "text": [
      "\n",
      "Billboard Lyrics Spotify Data:\n",
      "    artist_all  artist_base  rank                       song  year  \\\n",
      "0  percy faith  percy faith     1  theme from a summer place  1960   \n",
      "\n",
      "  artist_featured                 song_clean artist_clean  \\\n",
      "0             NaN  theme from a summer place  percy faith   \n",
      "\n",
      "                                              lyrics  acousticness  ...  \\\n",
      "0  theres a summer place where it may rain or sto...         0.631  ...   \n",
      "\n",
      "   speechiness   tempo  time_signature  valence  duration_min  num_words  \\\n",
      "0       0.0253  92.631             4.0    0.749      2.414883      104.0   \n",
      "\n",
      "   words_per_sec  num_uniq_words  decade uniq_ratio  \n",
      "0       0.717771            58.0    1960   1.793103  \n",
      "\n",
      "[1 rows x 30 columns]\n"
     ]
    }
   ],
   "source": [
    "print(\"\\nBillboard Lyrics Spotify Data:\")\n",
    "print(billboard_lyrics_spotify.head(1))\n"
   ]
  },
  {
   "cell_type": "code",
   "execution_count": 8,
   "metadata": {},
   "outputs": [
    {
     "name": "stdout",
     "output_type": "stream",
     "text": [
      "Number of duplicate rows in billboard_lyrics_spotify dataframe: 0\n",
      "Number of missing values in billboard_lyrics_spotify dataframe: \n",
      "artist_all             0\n",
      "artist_base            0\n",
      "rank                   0\n",
      "song                   0\n",
      "year                   0\n",
      "artist_featured     4993\n",
      "song_clean             0\n",
      "artist_clean           0\n",
      "lyrics                50\n",
      "acousticness         170\n",
      "danceability         170\n",
      "energy               170\n",
      "explicit             170\n",
      "instrumentalness     170\n",
      "key                  170\n",
      "liveness             170\n",
      "loudness             170\n",
      "mode                 170\n",
      "popularity           170\n",
      "release_date         170\n",
      "speechiness          170\n",
      "tempo                170\n",
      "time_signature       170\n",
      "valence              170\n",
      "duration_min         170\n",
      "num_words             50\n",
      "words_per_sec        213\n",
      "num_uniq_words        50\n",
      "decade                 0\n",
      "uniq_ratio            74\n",
      "dtype: int64\n"
     ]
    }
   ],
   "source": [
    "# Check for duplicates in the billboard_lyrics_spotify dataframe\n",
    "billboard_lyrics_spotify_duplicates = billboard_lyrics_spotify.duplicated().sum()\n",
    "print(f\"Number of duplicate rows in billboard_lyrics_spotify dataframe: {billboard_lyrics_spotify_duplicates}\")\n",
    "\n",
    "# Check for missing data in the billboard_lyrics_spotify dataframe\n",
    "billboard_lyrics_spotify_missing = billboard_lyrics_spotify.isnull().sum()\n",
    "print(f\"Number of missing values in billboard_lyrics_spotify dataframe: \\n{billboard_lyrics_spotify_missing}\")\n"
   ]
  },
  {
   "cell_type": "markdown",
   "metadata": {},
   "source": [
    "The missing values of artist_featured, which suggests that not all songs have featured artists. This is expected as not all songs have features artists"
   ]
  },
  {
   "cell_type": "code",
   "execution_count": 9,
   "metadata": {},
   "outputs": [
    {
     "name": "stdout",
     "output_type": "stream",
     "text": [
      "Missing values in billboard_lyrics_spotify: 0\n"
     ]
    }
   ],
   "source": [
    "# Fill missing values in the 'artist_featured' column of the 'billboard_lyrics_spotify' DataFrame with the string 'No Featured Artist'\n",
    "billboard_lyrics_spotify['artist_featured'] = billboard_lyrics_spotify['artist_featured'].fillna('No Featured Artist')\n",
    "\n",
    "# Print the number of missing values in the 'artist_featured' column of the 'billboard_lyrics_spotify' DataFrame\n",
    "print(\"Missing values in billboard_lyrics_spotify:\", billboard_lyrics_spotify['artist_featured'].isnull().sum())"
   ]
  },
  {
   "cell_type": "markdown",
   "metadata": {},
   "source": [
    "Missing Lyrics and spotify meta data values. "
   ]
  },
  {
   "cell_type": "markdown",
   "metadata": {},
   "source": [
    "The `billboard_lyrics_spotify` DataFrame has 5566 rows of data. The `billboard_lyrics_spotify_missing` variable shows that there are 50 songs that have missing lyrics. \n",
    "\n",
    "So, there is a small percentage of songs in DataFrames that do not have lyrics."
   ]
  },
  {
   "cell_type": "code",
   "execution_count": 10,
   "metadata": {},
   "outputs": [
    {
     "name": "stdout",
     "output_type": "stream",
     "text": [
      "Number of songs with missing lyrics: 0\n"
     ]
    }
   ],
   "source": [
    "# Drop any rows with missing lyrics\n",
    "billboard_lyrics_spotify = billboard_lyrics_spotify.dropna(subset=['lyrics'])\n",
    "\n",
    "# Calculate the number of songs with missing lyrics after dropping\n",
    "missing_lyrics = billboard_lyrics_spotify['lyrics'].isnull().sum()\n",
    "\n",
    "# Print the number of songs with missing lyrics\n",
    "print(f\"Number of songs with missing lyrics: {missing_lyrics}\")\n"
   ]
  },
  {
   "cell_type": "code",
   "execution_count": 11,
   "metadata": {},
   "outputs": [
    {
     "name": "stdout",
     "output_type": "stream",
     "text": [
      "Total available songs:  5330\n"
     ]
    }
   ],
   "source": [
    "# Drop the rows with missing data\n",
    "billboard_lyrics_spotify = billboard_lyrics_spotify.dropna()\n",
    "\n",
    "print(\"Total available songs: \", billboard_lyrics_spotify.shape[0])\n",
    "\n"
   ]
  },
  {
   "cell_type": "code",
   "execution_count": 12,
   "metadata": {},
   "outputs": [],
   "source": [
    "# Function to preprocess lyrics\n",
    "def preprocess_lyrics(lyrics):\n",
    "    # Lowercase the lyrics (Normalization)\n",
    "    lyrics = lyrics.lower()\n",
    "    \n",
    "    # Remove special characters\n",
    "    lyrics = re.sub(r'\\W', ' ', lyrics)\n",
    "    \n",
    "    # Remove single characters\n",
    "    lyrics = re.sub(r'\\s+[a-zA-Z]\\s+', ' ', lyrics)\n",
    "    \n",
    "    # Remove single characters from the start\n",
    "    lyrics = re.sub(r'\\^[a-zA-Z]\\s+', ' ', lyrics) \n",
    "    \n",
    "    # Remove stopwords\n",
    "    stop_words = set(stopwords.words('english'))\n",
    "    tokens = word_tokenize(lyrics)\n",
    "    lyrics = [i for i in tokens if not i in stop_words]\n",
    "    \n",
    "    # Stemming\n",
    "    ps = PorterStemmer()\n",
    "    lyrics = [ps.stem(word) for word in lyrics]\n",
    "    \n",
    "    return lyrics"
   ]
  },
  {
   "cell_type": "code",
   "execution_count": 13,
   "metadata": {},
   "outputs": [],
   "source": [
    "# Create a dataset without null values\n",
    "df_no_nulls = billboard_lyrics_spotify.dropna(subset=['lyrics'])"
   ]
  },
  {
   "cell_type": "code",
   "execution_count": 14,
   "metadata": {},
   "outputs": [
    {
     "name": "stderr",
     "output_type": "stream",
     "text": [
      "c:\\Users\\cedri\\Desktop\\Datasets and Artifact\\env\\lib\\site-packages\\tqdm\\auto.py:21: TqdmWarning: IProgress not found. Please update jupyter and ipywidgets. See https://ipywidgets.readthedocs.io/en/stable/user_install.html\n",
      "  from .autonotebook import tqdm as notebook_tqdm\n"
     ]
    }
   ],
   "source": [
    "from transformers import BertModel, BertTokenizer\n",
    "import torch\n",
    "\n",
    "# Load pre-trained model and tokenizer\n",
    "model_name = 'bert-base-uncased'\n",
    "model = BertModel.from_pretrained(model_name)\n",
    "tokenizer = BertTokenizer.from_pretrained(model_name)"
   ]
  },
  {
   "cell_type": "code",
   "execution_count": 15,
   "metadata": {},
   "outputs": [],
   "source": [
    "def vectorize_text(text):\n",
    "    # Join the preprocessed words back into a string\n",
    "    text = ' '.join(text)\n",
    "\n",
    "    # Tokenize the text\n",
    "    inputs = tokenizer(text, return_tensors='pt', truncation=True, padding=True)\n",
    "\n",
    "    # Get the embeddings\n",
    "    with torch.no_grad():\n",
    "        embeddings = model(**inputs).last_hidden_state\n",
    "\n",
    "    # Average the embeddings\n",
    "    vector = torch.mean(embeddings, dim=1)\n",
    "\n",
    "    return vector.numpy()\n",
    "\n"
   ]
  },
  {
   "cell_type": "code",
   "execution_count": 16,
   "metadata": {},
   "outputs": [],
   "source": [
    "# Apply the function to your preprocessed lyrics data\n",
    "df_no_nulls['bert_vector'] = df_no_nulls['lyrics'].apply(vectorize_text)"
   ]
  },
  {
   "cell_type": "code",
   "execution_count": 12,
   "metadata": {},
   "outputs": [],
   "source": [
    "# Save the DataFrame without null values to a CSV file\n",
    "df_no_nulls.to_csv('df_no_nulls.csv', index=False)"
   ]
  }
 ],
 "metadata": {
  "kernelspec": {
   "display_name": "Python 3",
   "language": "python",
   "name": "python3"
  },
  "language_info": {
   "codemirror_mode": {
    "name": "ipython",
    "version": 3
   },
   "file_extension": ".py",
   "mimetype": "text/x-python",
   "name": "python",
   "nbconvert_exporter": "python",
   "pygments_lexer": "ipython3",
   "version": "3.8.10"
  }
 },
 "nbformat": 4,
 "nbformat_minor": 2
}
